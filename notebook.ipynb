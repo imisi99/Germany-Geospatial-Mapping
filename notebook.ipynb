{
  "nbformat": 4,
  "nbformat_minor": 0,
  "metadata": {
    "colab": {
      "provenance": [],
      "authorship_tag": "ABX9TyO/rlN4xq9D9QBXA0FS0vA0",
      "include_colab_link": true
    },
    "kernelspec": {
      "name": "python3",
      "display_name": "Python 3"
    },
    "language_info": {
      "name": "python"
    }
  },
  "cells": [
    {
      "cell_type": "markdown",
      "metadata": {
        "id": "view-in-github",
        "colab_type": "text"
      },
      "source": [
        "<a href=\"https://colab.research.google.com/github/imisi99/Germany-Geospatial-Mapping/blob/main/notebook.ipynb\" target=\"_parent\"><img src=\"https://colab.research.google.com/assets/colab-badge.svg\" alt=\"Open In Colab\"/></a>"
      ]
    },
    {
      "cell_type": "code",
      "execution_count": 3,
      "metadata": {
        "colab": {
          "base_uri": "https://localhost:8080/"
        },
        "id": "o2S6_MRuiOq-",
        "outputId": "f1fd251b-3bc7-4bae-b951-ea4fcb0b4e6b"
      },
      "outputs": [
        {
          "output_type": "stream",
          "name": "stderr",
          "text": [
            "*** Earth Engine *** Share your feedback by taking our Annual Developer Satisfaction Survey: https://google.qualtrics.com/jfe/form/SV_0JLhFqfSY1uiEaW?source=Init\n"
          ]
        }
      ],
      "source": [
        "import ee\n",
        "import folium\n",
        "from geemap.foliumap import add_ee_layer\n",
        "\n",
        "ee.Authenticate()\n",
        "\n",
        "ee.Initialize(project='knightmares')"
      ]
    },
    {
      "cell_type": "code",
      "source": [
        "fc = ee.featurecollection('FAO/GAUL/2015/level1')\n",
        "germany = fc.filter(ee.Filter.eq('ADM0_NAME', 'Germany'))\n",
        "painted_states = ee.Image().paint(germany, 0, 2)\n",
        "painted_filled = ee.Image().paint(germany, 1).blend(painted_states)\n",
        "\n",
        "\n",
        "vis_params = {\n",
        "    'min' : 0,\n",
        "    'max' : 1,\n",
        "    'palette': ['0000FF', '00FFFF']\n",
        "}\n"
      ],
      "metadata": {
        "id": "QjMT0maToX7I"
      },
      "execution_count": null,
      "outputs": []
    },
    {
      "cell_type": "code",
      "source": [],
      "metadata": {
        "id": "QpxafGI-rLi8"
      },
      "execution_count": null,
      "outputs": []
    }
  ]
}